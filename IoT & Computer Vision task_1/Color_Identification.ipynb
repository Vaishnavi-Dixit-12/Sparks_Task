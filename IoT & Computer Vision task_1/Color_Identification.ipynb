{
 "cells": [
  {
   "cell_type": "code",
   "execution_count": 2,
   "id": "6bcdc327",
   "metadata": {},
   "outputs": [],
   "source": [
    "#!pip3 install opencv-python"
   ]
  },
  {
   "cell_type": "code",
   "execution_count": null,
   "id": "a58b0e8b",
   "metadata": {},
   "outputs": [],
   "source": [
    "import pandas as pd\n",
    "import cv2\n",
    "\n",
    "index=['color','color-name',hex,'R','G','B']\n",
    "df=pd.read_csv('colors.csv',names=index,header=None)\n",
    "img=cv2.imread('pic1.jpeg')\n",
    "img=cv2.resize(img,(500,500))\n",
    "\n",
    "\n",
    "click=False\n",
    "r=g=b=xpos=ypos=0\n",
    "\n",
    "def color_name(R,G,B):\n",
    "    minimum=1000\n",
    "    for i in range(len(df)):\n",
    "        d=abs(R-int(df.loc[i,'R']))+abs(G-int(df.loc[i,'G']))+abs(B-int(df.loc[i,'B']))\n",
    "        if d<=minimum:\n",
    "            minimum=d\n",
    "            cname=df.loc[i,'color-name']\n",
    "\n",
    "    return cname\n",
    "\n",
    "def draw(event,x,y,flags,params):\n",
    "    if event == cv2.EVENT_LBUTTONDBLCLK:\n",
    "        global r,g,b,xpos,ypos,click\n",
    "        click=True\n",
    "        xpos=x\n",
    "        ypos=y\n",
    "        b,g,r=img[y,x]\n",
    "        b=int(b)\n",
    "        g=int(g)\n",
    "        r=int(r)\n",
    "\n",
    "\n",
    "cv2.namedWindow('image')\n",
    "cv2.setMouseCallback('image', draw)\n",
    "\n",
    "while True:\n",
    "\tcv2.imshow('image', img)\n",
    "\tif click:\n",
    "\t\t#cv2.rectangle(image, startpoint, endpoint, color, thickness)-1 fills entire rectangle \n",
    "\t\tcv2.rectangle(img, (20,20), (600,60), (b,g,r), -1)\n",
    "\n",
    "\t\t#Creating text string to display( Color name and RGB values )\n",
    "\t\ttext = color_name(r,g,b) + ' R=' + str(r) + ' G=' + str(g) + ' B=' + str(b)\n",
    "\t\t#cv2.putText(img,text,start,font(0-7),fontScale,color,thickness,lineType )\n",
    "\t\tcv2.putText(img, text, (50,50), 2,0.8, (255,255,255),2,cv2.LINE_AA)\n",
    "\n",
    "\t\t#For very light colours we will display text in black colour\n",
    "\t\tif r+g+b >=600:\n",
    "\t\t\tcv2.putText(img, text, (50,50), 2,0.8, (0,0,0),2,cv2.LINE_AA)\n",
    "\n",
    "\tif cv2.waitKey(20) & 0xFF == 27:\n",
    "\t\tbreak\n",
    "\n",
    "cv2.destroyAllWindows()"
   ]
  }
 ],
 "metadata": {
  "kernelspec": {
   "display_name": "Python 3",
   "language": "python",
   "name": "python3"
  },
  "language_info": {
   "codemirror_mode": {
    "name": "ipython",
    "version": 3
   },
   "file_extension": ".py",
   "mimetype": "text/x-python",
   "name": "python",
   "nbconvert_exporter": "python",
   "pygments_lexer": "ipython3",
   "version": "3.8.8"
  }
 },
 "nbformat": 4,
 "nbformat_minor": 5
}
